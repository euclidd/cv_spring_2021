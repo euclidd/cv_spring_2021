{
 "cells": [
  {
   "cell_type": "code",
   "execution_count": 64,
   "metadata": {},
   "outputs": [],
   "source": [
    "def solution_1(N: int):\n",
    "    bn = str(bin(N).split('0b')[1])\n",
    "    \n",
    "    return len(max(bn.strip('0').split('1')))"
   ]
  },
  {
   "cell_type": "code",
   "execution_count": 65,
   "metadata": {},
   "outputs": [
    {
     "data": {
      "text/plain": [
       "5"
      ]
     },
     "execution_count": 65,
     "metadata": {},
     "output_type": "execute_result"
    }
   ],
   "source": [
    "solution_1(1041)"
   ]
  },
  {
   "cell_type": "code",
   "execution_count": 66,
   "metadata": {},
   "outputs": [],
   "source": [
    "def solution_2(A: list):\n",
    "\n",
    "    circles = {}\n",
    "    i = 0\n",
    "\n",
    "    while i < len(A):\n",
    "        point = A[i]\n",
    "        start = i - point\n",
    "        end = i + point\n",
    "        circle = set([i for i in range(start, end+1)])\n",
    "        circles[i] = circle\n",
    "        i += 1\n",
    "\n",
    "    intersections = set()\n",
    "    for ckey, cval in circles.items():\n",
    "        for nkey, nval in circles.items():\n",
    "            if ckey != nkey and cval.intersection(nval):\n",
    "                intersections.add(frozenset([ckey, nkey]))\n",
    "                \n",
    "                \n",
    "    return len(intersections)"
   ]
  },
  {
   "cell_type": "code",
   "execution_count": 67,
   "metadata": {},
   "outputs": [
    {
     "data": {
      "text/plain": [
       "11"
      ]
     },
     "execution_count": 67,
     "metadata": {},
     "output_type": "execute_result"
    }
   ],
   "source": [
    "solution_2([1, 5, 2, 1, 4, 0])"
   ]
  },
  {
   "cell_type": "code",
   "execution_count": 68,
   "metadata": {},
   "outputs": [],
   "source": [
    "def solution_3(A: list):\n",
    "    \n",
    "    once = set()\n",
    "    multiple = set()\n",
    "    \n",
    "    for i in A:\n",
    "        if i not in multiple:\n",
    "            if i in once:\n",
    "                multiple.add(i)\n",
    "                once.remove(i)\n",
    "            else:\n",
    "                once.add(i)\n",
    "    \n",
    "    return once.pop()"
   ]
  },
  {
   "cell_type": "code",
   "execution_count": 69,
   "metadata": {},
   "outputs": [
    {
     "data": {
      "text/plain": [
       "7"
      ]
     },
     "execution_count": 69,
     "metadata": {},
     "output_type": "execute_result"
    }
   ],
   "source": [
    "solution_3([9, 3, 9, 3, 9, 7])"
   ]
  },
  {
   "cell_type": "code",
   "execution_count": null,
   "metadata": {},
   "outputs": [],
   "source": [
    "class Solution {\n",
    "    public int solution(int[] A, int[] B) {\n",
    "\n",
    "        int numFishes = A.length;\n",
    "\n",
    "        // no fishes\n",
    "        if(numFishes == 0)\n",
    "            return 0;\n",
    "\n",
    "        // Deque stores the fishes swimming downstreams (B[i]==1) \n",
    "        Deque<Integer> downstreams = new ArrayDeque<Integer>();\n",
    "\n",
    "        for(int i = 0; i < A.length; i++){\n",
    "\n",
    "            //Fish is going downstreams\n",
    "            if(B[i] == 1){\n",
    "                // push the fish into the Deque\n",
    "                downstreams.push(A[i]); \n",
    "            }//Fish is going upstreams\n",
    "            else{\n",
    "                while( !downstreams.isEmpty() ){ \n",
    "                    // Downstream-fish is bigger \n",
    "                    if( downstreams.peek() > A[i] ){\n",
    "                        //Upstream-fish gets eaten\n",
    "                        numFishes--;\n",
    "                        break;    \n",
    "                    }// Downstream-fish is smaller\n",
    "                    else if(downstreams.peek() < A[i]){\n",
    "                        //Downstream-fish gets eaten\n",
    "                        numFishes--;\n",
    "                        downstreams.pop();\n",
    "                    }\n",
    "                }\n",
    "            }  \n",
    "        }    \n",
    "\n",
    "        return numFishes;\n",
    "    }\n",
    "}"
   ]
  },
  {
   "cell_type": "code",
   "execution_count": 99,
   "metadata": {},
   "outputs": [],
   "source": [
    "from collections import deque\n",
    "\n",
    "\n",
    "def solution_4(A: list, B: list):\n",
    "    \n",
    "    num_fishes = len(A)\n",
    "    \n",
    "    if num_fishes == 0:\n",
    "        return 0\n",
    "    \n",
    "    downstream = []\n",
    "    \n",
    "    i = 0\n",
    "    while i < num_fishes:\n",
    "        \n",
    "        if B[i] == 1:\n",
    "            downstream.append(A[i])\n",
    "        \n",
    "        else:\n",
    "            while downstream:\n",
    "                if downstream[-1] > A[i]:\n",
    "                    num_fishes -= 1\n",
    "                    break\n",
    "                elif downstream[-1] < A[i]:\n",
    "                    num_fishes -= 1\n",
    "                    _ = downstream.pop()\n",
    "    \n",
    "        i += 1\n",
    "    \n",
    "    return num_fishes"
   ]
  },
  {
   "cell_type": "code",
   "execution_count": 100,
   "metadata": {},
   "outputs": [
    {
     "data": {
      "text/plain": [
       "3"
      ]
     },
     "execution_count": 100,
     "metadata": {},
     "output_type": "execute_result"
    }
   ],
   "source": [
    "solution_4([4, 3, 2, 1, 5], [0, 1, 0, 0, 0])"
   ]
  },
  {
   "cell_type": "code",
   "execution_count": null,
   "metadata": {},
   "outputs": [],
   "source": []
  }
 ],
 "metadata": {
  "kernelspec": {
   "display_name": "Python 3",
   "language": "python",
   "name": "python3"
  },
  "language_info": {
   "codemirror_mode": {
    "name": "ipython",
    "version": 3
   },
   "file_extension": ".py",
   "mimetype": "text/x-python",
   "name": "python",
   "nbconvert_exporter": "python",
   "pygments_lexer": "ipython3",
   "version": "3.8.3"
  }
 },
 "nbformat": 4,
 "nbformat_minor": 4
}
